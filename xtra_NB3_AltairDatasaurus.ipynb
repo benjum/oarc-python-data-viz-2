{
 "cells": [
  {
   "cell_type": "markdown",
   "id": "c8ae5254-5f32-496e-93c3-c179662cbf73",
   "metadata": {},
   "source": [
    "# Altair"
   ]
  },
  {
   "cell_type": "code",
   "execution_count": null,
   "id": "beautiful-premium",
   "metadata": {},
   "outputs": [],
   "source": [
    "import altair as alt\n",
    "import pandas as pd\n",
    "import ipywidgets as widgets"
   ]
  },
  {
   "cell_type": "code",
   "execution_count": null,
   "id": "marine-anchor",
   "metadata": {},
   "outputs": [],
   "source": [
    "dinodf = pd.read_csv('data/DatasaurusDozen.tsv',sep='\\t')"
   ]
  },
  {
   "cell_type": "code",
   "execution_count": null,
   "id": "theoretical-allen",
   "metadata": {},
   "outputs": [],
   "source": [
    "dinodf = dinodf[dinodf.dataset=='dino']"
   ]
  },
  {
   "cell_type": "code",
   "execution_count": null,
   "id": "cellular-portrait",
   "metadata": {},
   "outputs": [],
   "source": [
    "dinodf"
   ]
  },
  {
   "cell_type": "code",
   "execution_count": null,
   "id": "historical-portsmouth",
   "metadata": {},
   "outputs": [],
   "source": [
    "points = alt.Chart(dinodf).mark_point().encode(\n",
    "    x='x',\n",
    "    y='y'\n",
    ")\n",
    "points"
   ]
  },
  {
   "cell_type": "code",
   "execution_count": null,
   "id": "laden-individual",
   "metadata": {},
   "outputs": [],
   "source": [
    "bars = alt.Chart(dinodf).mark_bar().encode(\n",
    "    x='count(x)',\n",
    "    y='x'\n",
    ")\n",
    "bars"
   ]
  },
  {
   "cell_type": "code",
   "execution_count": null,
   "id": "twelve-jewelry",
   "metadata": {},
   "outputs": [],
   "source": [
    "barsX = alt.Chart(dinodf).mark_bar().encode(\n",
    "    alt.X('x',bin=True),\n",
    "    y='count()'\n",
    ")\n",
    "barsX"
   ]
  },
  {
   "cell_type": "code",
   "execution_count": null,
   "id": "empty-pollution",
   "metadata": {},
   "outputs": [],
   "source": [
    "bars = alt.Chart(dinodf).mark_bar().encode(\n",
    "    alt.X('y',bin=True),\n",
    "    y='count()'\n",
    ")\n",
    "bars"
   ]
  },
  {
   "cell_type": "code",
   "execution_count": null,
   "id": "obvious-globe",
   "metadata": {},
   "outputs": [],
   "source": [
    "barsY = alt.Chart(dinodf).mark_bar().encode(\n",
    "    alt.Y('y',bin=True),\n",
    "    x='count()'\n",
    ")\n",
    "barsY"
   ]
  },
  {
   "cell_type": "code",
   "execution_count": null,
   "id": "conditional-canadian",
   "metadata": {},
   "outputs": [],
   "source": [
    "barsX & barsY"
   ]
  },
  {
   "cell_type": "code",
   "execution_count": null,
   "id": "psychological-fossil",
   "metadata": {},
   "outputs": [],
   "source": [
    "alt.vconcat(barsX,\n",
    "            alt.hconcat(points,barsY))"
   ]
  },
  {
   "cell_type": "code",
   "execution_count": null,
   "id": "missing-lewis",
   "metadata": {},
   "outputs": [],
   "source": [
    "my_si = alt.selection_interval()"
   ]
  },
  {
   "cell_type": "code",
   "execution_count": null,
   "id": "sorted-learning",
   "metadata": {},
   "outputs": [],
   "source": [
    "points = alt.Chart(dinodf).mark_point().encode(\n",
    "    x='x',\n",
    "    y='y'\n",
    ").add_params(\n",
    "    my_si\n",
    ")\n",
    "\n",
    "barsX = alt.Chart(dinodf).mark_bar().encode(\n",
    "    alt.X('x',bin=True),\n",
    "    y='count()'\n",
    ").transform_filter(\n",
    "    my_si\n",
    ")\n",
    "\n",
    "barsY = alt.Chart(dinodf).mark_bar().encode(\n",
    "    alt.Y('y',bin=True),\n",
    "    x='count()'\n",
    ").transform_filter(\n",
    "    my_si\n",
    ")\n",
    "\n",
    "chart = alt.vconcat(barsX,\n",
    "            alt.hconcat(points,barsY))"
   ]
  },
  {
   "cell_type": "code",
   "execution_count": null,
   "id": "db8f83a9-776e-4dfa-b46b-6629fd479b5f",
   "metadata": {},
   "outputs": [],
   "source": [
    "chart"
   ]
  },
  {
   "cell_type": "code",
   "execution_count": null,
   "id": "embedded-farmer",
   "metadata": {},
   "outputs": [],
   "source": [
    "points = alt.Chart(dinodf).mark_point().encode(\n",
    "    x='x',\n",
    "    y='y'\n",
    ").add_params(\n",
    "    my_si\n",
    ")\n",
    "\n",
    "barsX = alt.Chart(dinodf).mark_bar().encode(\n",
    "    alt.X('x',bin=True,scale=alt.Scale(domain=[0, 100])),\n",
    "    y='count()'\n",
    ").transform_filter(\n",
    "    my_si\n",
    ")\n",
    "\n",
    "barsY = alt.Chart(dinodf).mark_bar().encode(\n",
    "    alt.Y('y',bin=True,scale=alt.Scale(domain=[0, 100])),\n",
    "    x='count()'\n",
    ").transform_filter(\n",
    "    my_si\n",
    ")\n",
    "\n",
    "chart = alt.vconcat(barsX,\n",
    "            alt.hconcat(points,barsY))\n",
    "\n",
    "chart"
   ]
  },
  {
   "cell_type": "code",
   "execution_count": null,
   "id": "underlying-expense",
   "metadata": {},
   "outputs": [],
   "source": [
    "chart.save('altairasaurus_chart.html')"
   ]
  },
  {
   "cell_type": "markdown",
   "id": "dd022dd5-55a1-4dbe-b660-6139ae54bef8",
   "metadata": {},
   "source": [
    "## Using altair + ipywidgets"
   ]
  },
  {
   "cell_type": "code",
   "execution_count": null,
   "id": "sticky-junction",
   "metadata": {},
   "outputs": [],
   "source": [
    "import ipywidgets\n",
    "dinodf = pd.read_csv('data/DatasaurusDozen.tsv',sep='\\t')\n",
    "\n",
    "def chartosaurus(dataset='dino'):\n",
    "    localdf = dinodf[dinodf.dataset==dataset]\n",
    "    points = alt.Chart(localdf).mark_point().encode(\n",
    "        x='x',\n",
    "        y='y'\n",
    "    ).add_params(\n",
    "        my_si\n",
    "    )\n",
    "\n",
    "    barsX = alt.Chart(localdf).mark_bar().encode(\n",
    "        alt.X('x',bin=True, scale=alt.Scale(domain=[0, 100])),\n",
    "        y='count()'\n",
    "    ).transform_filter(\n",
    "        my_si\n",
    "    )\n",
    "\n",
    "    barsY = alt.Chart(localdf).mark_bar().encode(\n",
    "        alt.Y('y',bin=True, scale=alt.Scale(domain=[0, 100])),\n",
    "        x='count()'\n",
    "    ).transform_filter(\n",
    "        my_si\n",
    "    )\n",
    "\n",
    "    chart = alt.vconcat(barsX,\n",
    "                alt.hconcat(points,barsY))\n",
    "    \n",
    "    return chart\n",
    "    \n",
    "ipywidgets.interact(chartosaurus,dataset=dinodf.dataset.unique());"
   ]
  }
 ],
 "metadata": {
  "kernelspec": {
   "display_name": "Python 3 (ipykernel)",
   "language": "python",
   "name": "python3"
  },
  "language_info": {
   "codemirror_mode": {
    "name": "ipython",
    "version": 3
   },
   "file_extension": ".py",
   "mimetype": "text/x-python",
   "name": "python",
   "nbconvert_exporter": "python",
   "pygments_lexer": "ipython3",
   "version": "3.11.9"
  },
  "toc": {
   "base_numbering": 1,
   "nav_menu": {},
   "number_sections": true,
   "sideBar": true,
   "skip_h1_title": false,
   "title_cell": "Table of Contents",
   "title_sidebar": "Contents",
   "toc_cell": false,
   "toc_position": {},
   "toc_section_display": true,
   "toc_window_display": false
  }
 },
 "nbformat": 4,
 "nbformat_minor": 5
}
