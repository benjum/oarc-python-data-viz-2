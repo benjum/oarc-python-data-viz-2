{
 "cells": [
  {
   "cell_type": "markdown",
   "id": "0c97d136-a472-495a-9138-01d2de3cff44",
   "metadata": {},
   "source": [
    "# Plotly"
   ]
  },
  {
   "cell_type": "code",
   "execution_count": null,
   "id": "00d800b4-d890-4853-b0fb-2d53692f3490",
   "metadata": {},
   "outputs": [],
   "source": [
    "import plotly.express as px"
   ]
  },
  {
   "cell_type": "code",
   "execution_count": null,
   "id": "9b2a943d-3014-4582-aeeb-fbe573ba1d3d",
   "metadata": {},
   "outputs": [],
   "source": [
    "px.data.gapminder()"
   ]
  },
  {
   "cell_type": "markdown",
   "id": "9ff49bae-2929-42ce-bdd8-29dbad27a255",
   "metadata": {},
   "source": [
    "## Using Pandas"
   ]
  },
  {
   "cell_type": "code",
   "execution_count": null,
   "id": "6768ab66-3880-4ef5-b99c-6f46f13092ad",
   "metadata": {},
   "outputs": [],
   "source": [
    "gp = px.data.gapminder()"
   ]
  },
  {
   "cell_type": "code",
   "execution_count": null,
   "id": "456ec91a-fc51-4373-bb49-c10fdd9e1c72",
   "metadata": {},
   "outputs": [],
   "source": [
    "gp_usa = gp.loc[gp['country']=='United States']"
   ]
  },
  {
   "cell_type": "code",
   "execution_count": null,
   "id": "5f80f78f",
   "metadata": {},
   "outputs": [],
   "source": [
    "gp_usa.plot(x='year', y='lifeExp')"
   ]
  },
  {
   "cell_type": "code",
   "execution_count": null,
   "id": "ad5fbee4",
   "metadata": {},
   "outputs": [],
   "source": [
    "gp_usa.plot(x='year', y='lifeExp', kind='scatter')"
   ]
  },
  {
   "cell_type": "code",
   "execution_count": null,
   "id": "9f5b4d20",
   "metadata": {},
   "outputs": [],
   "source": [
    "ax = gp_usa.plot(x='year', y='lifeExp')\n",
    "gp_usa.plot(x='year', y='lifeExp', kind='scatter', ax=ax)"
   ]
  },
  {
   "cell_type": "code",
   "execution_count": null,
   "id": "bd85e6c6",
   "metadata": {},
   "outputs": [],
   "source": [
    "ax = gp_usa.plot(x='year', y='lifeExp')\n",
    "gp_usa.plot(x='year', y='gdpPercap', ax=ax)"
   ]
  },
  {
   "cell_type": "markdown",
   "id": "68dda9b1-9451-458f-861e-f80cc5f6a6ed",
   "metadata": {},
   "source": [
    "# Incorporating some Matplotlib too"
   ]
  },
  {
   "cell_type": "code",
   "execution_count": null,
   "id": "de235923-d0a2-4815-af22-39cd720b1d60",
   "metadata": {},
   "outputs": [],
   "source": [
    "import matplotlib.pyplot as plt"
   ]
  },
  {
   "cell_type": "code",
   "execution_count": null,
   "id": "6eb34dd8-29a8-427b-815c-0d59037e6c7b",
   "metadata": {},
   "outputs": [],
   "source": [
    "fig,ax=plt.subplots(2,1,sharex=True)\n",
    "gp_usa.plot(x='year', y='lifeExp', ax=ax[0])\n",
    "gp_usa.plot(x='year', y='gdpPercap', ax=ax[1])"
   ]
  },
  {
   "cell_type": "code",
   "execution_count": null,
   "id": "664b042c-cb3e-4711-8fbb-4e531413a30e",
   "metadata": {},
   "outputs": [],
   "source": [
    "gp_usa.plot(x='gdpPercap', y='lifeExp', kind='scatter')"
   ]
  },
  {
   "cell_type": "markdown",
   "id": "70ff0efa",
   "metadata": {},
   "source": [
    "## Telling stories with Plotly & animation\n",
    "\n",
    "* Steps to build up our scatter plot into an animated visualization"
   ]
  },
  {
   "cell_type": "code",
   "execution_count": null,
   "id": "7b249fa0-382c-4130-ba1b-e6c85bf29afc",
   "metadata": {},
   "outputs": [],
   "source": [
    "px.scatter(gp_usa, \n",
    "           x=\"gdpPercap\", \n",
    "           y=\"lifeExp\")"
   ]
  },
  {
   "cell_type": "markdown",
   "id": "5e0d4eca",
   "metadata": {},
   "source": [
    "The above is just for the USA.  We're going to expand to all countries now:"
   ]
  },
  {
   "cell_type": "code",
   "execution_count": null,
   "id": "f09af9cc",
   "metadata": {},
   "outputs": [],
   "source": [
    "px.scatter(gp, \n",
    "           x=\"gdpPercap\", \n",
    "           y=\"lifeExp\")"
   ]
  },
  {
   "cell_type": "markdown",
   "id": "f0da916a",
   "metadata": {},
   "source": [
    "Wait... not only do we not know which point is which country, we also don't know how the points evolve in time."
   ]
  },
  {
   "cell_type": "code",
   "execution_count": null,
   "id": "6cff6aad-e779-4b77-aac4-ceeb3965edf6",
   "metadata": {},
   "outputs": [],
   "source": [
    "px.scatter(gp, \n",
    "           x=\"year\", \n",
    "           y=\"lifeExp\")"
   ]
  },
  {
   "cell_type": "markdown",
   "id": "93a7ee67",
   "metadata": {},
   "source": [
    "10+ year values, lots of countries, ... how to grasp multivariate data?"
   ]
  },
  {
   "cell_type": "code",
   "execution_count": null,
   "id": "efa2dfe2-ee67-4c31-92c7-3d2d283808ca",
   "metadata": {},
   "outputs": [],
   "source": [
    "gp.year.unique()"
   ]
  },
  {
   "cell_type": "markdown",
   "id": "d75940c0",
   "metadata": {},
   "source": [
    "We could look at a plot of all values for a given year."
   ]
  },
  {
   "cell_type": "code",
   "execution_count": null,
   "id": "1b5e6cdf-6fec-4153-83ff-347982738bf2",
   "metadata": {},
   "outputs": [],
   "source": [
    "years = gp.year.unique()"
   ]
  },
  {
   "cell_type": "code",
   "execution_count": null,
   "id": "e95e78c8-7fe5-4cea-b103-9888cc4b4665",
   "metadata": {},
   "outputs": [],
   "source": [
    "i = years[0]\n",
    "\n",
    "px.scatter(gp.loc[gp['year']==i], \n",
    "           x=\"gdpPercap\", \n",
    "           y=\"lifeExp\")"
   ]
  },
  {
   "cell_type": "markdown",
   "id": "d18c4565-b743-4f63-a8c8-8d9500f90d30",
   "metadata": {},
   "source": [
    "What's that outlier?\n",
    "\n",
    "Let's add 'hover_name' so that we can more easily get information about points by simply moving our mouse to them."
   ]
  },
  {
   "cell_type": "code",
   "execution_count": null,
   "id": "5727d17b-b49a-45f7-bffd-d9f68b88655a",
   "metadata": {},
   "outputs": [],
   "source": [
    "i = years[0]\n",
    "\n",
    "px.scatter(gp.loc[gp['year']==i], \n",
    "           x=\"gdpPercap\", \n",
    "           y=\"lifeExp\",\n",
    "           hover_name='country')"
   ]
  },
  {
   "cell_type": "markdown",
   "id": "5d3ea4d1-b9c9-4ecf-b432-c3e1dbbee71f",
   "metadata": {},
   "source": [
    "At the moment, the scale has lots of low gdpPercap.  We can stretch out this scale to make the separation more visible by making it log scale."
   ]
  },
  {
   "cell_type": "code",
   "execution_count": null,
   "id": "65613e28-e34c-4275-85d5-478914b4d76c",
   "metadata": {},
   "outputs": [],
   "source": [
    "i = years[0]\n",
    "\n",
    "px.scatter(gp.loc[gp['year']==i], \n",
    "           x=\"gdpPercap\", \n",
    "           y=\"lifeExp\",\n",
    "           hover_name='country',\n",
    "           log_x=True)"
   ]
  },
  {
   "cell_type": "markdown",
   "id": "b3db2fb6",
   "metadata": {},
   "source": [
    "One way to look at time -> manually change what time you are plotting"
   ]
  },
  {
   "cell_type": "code",
   "execution_count": null,
   "id": "7af5112f-e65c-48d3-85b5-e2e38014367a",
   "metadata": {},
   "outputs": [],
   "source": [
    "i = years[10]\n",
    "\n",
    "px.scatter(gp.loc[gp['year']==i], \n",
    "           x=\"gdpPercap\", \n",
    "           y=\"lifeExp\",\n",
    "           hover_name='country',\n",
    "           log_x=True)"
   ]
  },
  {
   "cell_type": "markdown",
   "id": "ea96ce39",
   "metadata": {},
   "source": [
    "Another way to visualize change over time -> dynamically change the plot in real time"
   ]
  },
  {
   "cell_type": "code",
   "execution_count": null,
   "id": "c196ea58-c037-4fe8-a5cf-e83541dd3170",
   "metadata": {},
   "outputs": [],
   "source": [
    "i = years[10]\n",
    "\n",
    "# px.scatter(gp.loc[gp['year']==i], \n",
    "px.scatter(gp, \n",
    "           x=\"gdpPercap\", \n",
    "           y=\"lifeExp\",\n",
    "           hover_name='country',\n",
    "           log_x=True,\n",
    "           animation_frame=\"year\")"
   ]
  },
  {
   "cell_type": "markdown",
   "id": "a5a2b0e3-728b-4483-ab09-493676364ba4",
   "metadata": {},
   "source": [
    "How do we know what's evolving where?"
   ]
  },
  {
   "cell_type": "code",
   "execution_count": null,
   "id": "71eece54-3d91-4173-a8c4-f4072f08146d",
   "metadata": {},
   "outputs": [],
   "source": [
    "i = years[10]\n",
    "\n",
    "# px.scatter(gp.loc[gp['year']==i], \n",
    "px.scatter(gp, \n",
    "           x=\"gdpPercap\", \n",
    "           y=\"lifeExp\",\n",
    "           hover_name='country',color='country',\n",
    "           log_x=True,\n",
    "           animation_frame=\"year\")"
   ]
  },
  {
   "cell_type": "markdown",
   "id": "236d0e29-91e7-4294-9382-c5041a764abe",
   "metadata": {},
   "source": [
    "Lots of colors.... let's also add population to distinguish the dots."
   ]
  },
  {
   "cell_type": "code",
   "execution_count": null,
   "id": "1d6be2cb-2373-41ae-b221-df14c11579a8",
   "metadata": {},
   "outputs": [],
   "source": [
    "i = years[10]\n",
    "\n",
    "# px.scatter(gp.loc[gp['year']==i], \n",
    "px.scatter(gp, \n",
    "           x=\"gdpPercap\", \n",
    "           y=\"lifeExp\",\n",
    "           hover_name='country',color='country',size='pop',\n",
    "           log_x=True,\n",
    "           animation_frame=\"year\")"
   ]
  },
  {
   "cell_type": "markdown",
   "id": "19c36d8a-3660-4b4e-8a6e-4bd18b41aa9d",
   "metadata": {},
   "source": [
    "The axes aren't good... the dots look like they've leaving!"
   ]
  },
  {
   "cell_type": "code",
   "execution_count": null,
   "id": "6eba4a67-3592-4bbf-b808-eeac35ad5526",
   "metadata": {},
   "outputs": [],
   "source": [
    "i = years[10]\n",
    "\n",
    "# px.scatter(gp.loc[gp['year']==i], \n",
    "px.scatter(gp, \n",
    "           x=\"gdpPercap\", \n",
    "           y=\"lifeExp\",\n",
    "           hover_name='country',color='country',size='pop',\n",
    "           log_x=True,\n",
    "           animation_frame=\"year\",\n",
    "           range_x=[100,100000], \n",
    "           range_y=[25,90])"
   ]
  },
  {
   "cell_type": "markdown",
   "id": "0ba7e560-8d98-497d-910d-25c6b659f25f",
   "metadata": {},
   "source": [
    "Let's make the ratio different to spreade out the points."
   ]
  },
  {
   "cell_type": "code",
   "execution_count": null,
   "id": "ff52a197-f42a-4cd2-b080-5c319876d2f3",
   "metadata": {},
   "outputs": [],
   "source": [
    "i = years[10]\n",
    "\n",
    "# px.scatter(gp.loc[gp['year']==i], \n",
    "px.scatter(gp, \n",
    "           x=\"gdpPercap\", \n",
    "           y=\"lifeExp\",\n",
    "           hover_name='country',color='country',size='pop',\n",
    "           log_x=True,\n",
    "           animation_frame=\"year\",\n",
    "           range_x=[100,100000], \n",
    "           range_y=[25,90],\n",
    "           width=800, \n",
    "           height=600)"
   ]
  },
  {
   "cell_type": "markdown",
   "id": "f79f28c0",
   "metadata": {},
   "source": [
    "... and change the size of the points to make it easier on our eyes to see smaller points."
   ]
  },
  {
   "cell_type": "code",
   "execution_count": null,
   "id": "1b8ec765-a62c-41ab-b08e-92d10e8814d2",
   "metadata": {},
   "outputs": [],
   "source": [
    "i = years[10]\n",
    "\n",
    "# px.scatter(gp.loc[gp['year']==i], \n",
    "px.scatter(gp, \n",
    "           x=\"gdpPercap\", \n",
    "           y=\"lifeExp\",\n",
    "           hover_name='country',color='country',size='pop',\n",
    "           log_x=True,\n",
    "           animation_frame=\"year\",\n",
    "           range_x=[100,100000], \n",
    "           range_y=[25,90],\n",
    "           width=800, \n",
    "           height=600,\n",
    "           size_max=60\n",
    "          )"
   ]
  },
  {
   "cell_type": "code",
   "execution_count": null,
   "id": "b2a8782f-f27f-4ee5-ae53-c54b1fefea88",
   "metadata": {},
   "outputs": [],
   "source": [
    "i = years[10]\n",
    "\n",
    "# px.scatter(gp.loc[gp['year']==i], \n",
    "px.scatter(gp, \n",
    "           x=\"gdpPercap\", \n",
    "           y=\"lifeExp\",\n",
    "           hover_name='country',color='country',size='pop',\n",
    "           log_x=True,\n",
    "           animation_frame=\"year\",\n",
    "           range_x=[100,100000], \n",
    "           range_y=[25,90],\n",
    "           width=800, \n",
    "           height=600,\n",
    "           size_max=60,template='simple_white'\n",
    "          )"
   ]
  },
  {
   "cell_type": "markdown",
   "id": "8abb6c4b-26b5-4065-9709-169fafcc0981",
   "metadata": {},
   "source": [
    "Do you remember the special point of Kuwait in 1952?  Is it still plotted above?"
   ]
  },
  {
   "cell_type": "code",
   "execution_count": null,
   "id": "6ca9e7f3-0199-4639-a492-c1d6e7ed0c87",
   "metadata": {},
   "outputs": [],
   "source": [
    "i = years[10]\n",
    "\n",
    "# px.scatter(gp.loc[gp['year']==i], \n",
    "px.scatter(gp, \n",
    "           x=\"gdpPercap\", \n",
    "           y=\"lifeExp\",\n",
    "           hover_name='country',color='country',size='pop',\n",
    "           log_x=True,\n",
    "           animation_frame=\"year\",animation_group='country',\n",
    "           range_x=[100,100000], \n",
    "           range_y=[25,90],\n",
    "           width=800, \n",
    "           height=800,\n",
    "           size_max=60,\n",
    "           template='simple_white',\n",
    "           facet_row='continent'\n",
    "          )"
   ]
  }
 ],
 "metadata": {
  "kernelspec": {
   "display_name": "Python 3 (ipykernel)",
   "language": "python",
   "name": "python3"
  },
  "language_info": {
   "codemirror_mode": {
    "name": "ipython",
    "version": 3
   },
   "file_extension": ".py",
   "mimetype": "text/x-python",
   "name": "python",
   "nbconvert_exporter": "python",
   "pygments_lexer": "ipython3",
   "version": "3.11.9"
  }
 },
 "nbformat": 4,
 "nbformat_minor": 5
}
