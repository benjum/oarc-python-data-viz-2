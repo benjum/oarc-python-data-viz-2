{
 "cells": [
  {
   "cell_type": "code",
   "execution_count": null,
   "id": "bddc4944-436d-4151-9802-e664d66b6ba0",
   "metadata": {},
   "outputs": [],
   "source": [
    "from jupyter_dash import JupyterDash\n",
    "from dash import dcc\n",
    "from dash import html\n",
    "import pandas as pd"
   ]
  },
  {
   "cell_type": "code",
   "execution_count": null,
   "id": "bd2f8a92-dc32-43c4-9ba0-439338260f07",
   "metadata": {},
   "outputs": [],
   "source": [
    "dinodf = pd.read_csv('data/DatasaurusDozen.tsv',sep='\\t')"
   ]
  },
  {
   "cell_type": "markdown",
   "id": "1b7af93f-37cd-43f0-bd63-5671595d1737",
   "metadata": {},
   "source": [
    "When running in JupyterHub or Binder, call the `infer_jupyter_config` function to detect the proxy configuration.  The following three cells are best executed independently."
   ]
  },
  {
   "cell_type": "code",
   "execution_count": null,
   "id": "1174bd8e-8808-4c30-b060-5d9fd982f59e",
   "metadata": {},
   "outputs": [],
   "source": [
    "from jupyter_dash.comms import _send_jupyter_config_comm_request"
   ]
  },
  {
   "cell_type": "code",
   "execution_count": null,
   "id": "876c91d1-677e-4fbc-918f-ae7ca9f7c207",
   "metadata": {},
   "outputs": [],
   "source": [
    "_send_jupyter_config_comm_request()"
   ]
  },
  {
   "cell_type": "code",
   "execution_count": null,
   "id": "75f089e9-b4bb-46dc-8601-12f58e80ed8c",
   "metadata": {},
   "outputs": [],
   "source": [
    "JupyterDash.infer_jupyter_proxy_config()"
   ]
  },
  {
   "cell_type": "code",
   "execution_count": null,
   "id": "f5f70007-3cb1-4914-9955-9e19f4e70e79",
   "metadata": {},
   "outputs": [],
   "source": [
    "app = JupyterDash(__name__)"
   ]
  },
  {
   "cell_type": "code",
   "execution_count": null,
   "id": "1b363f81-67af-49d0-a92a-96321702af30",
   "metadata": {},
   "outputs": [],
   "source": [
    "app.layout = html.Div(\n",
    "    html.H1('Hello!')\n",
    ")"
   ]
  },
  {
   "cell_type": "code",
   "execution_count": null,
   "id": "8b3cdef3-616a-4e38-a7b3-c7527b095878",
   "metadata": {},
   "outputs": [],
   "source": [
    "app.run_server()"
   ]
  },
  {
   "cell_type": "code",
   "execution_count": null,
   "id": "5fe640bf-1add-461b-bc17-92b7aa67fb93",
   "metadata": {},
   "outputs": [],
   "source": [
    "# will give an error\n",
    "app.layout = html.Div(\n",
    "    html.H1('Hello!'),\n",
    "    html.P('This is my paragraph.')\n",
    ")"
   ]
  },
  {
   "cell_type": "code",
   "execution_count": null,
   "id": "a678c086-eec0-461b-b3ae-051ea3b20de9",
   "metadata": {},
   "outputs": [],
   "source": [
    "app.layout = html.Div(\n",
    "    [\n",
    "        html.H1('Hello!'),\n",
    "        html.P('This is my paragraph.')\n",
    "    ],\n",
    "    \n",
    ")"
   ]
  },
  {
   "cell_type": "code",
   "execution_count": null,
   "id": "ab7268fa-5ee1-4421-a2ea-82907efa61fe",
   "metadata": {},
   "outputs": [],
   "source": [
    "import plotly.express as px"
   ]
  },
  {
   "cell_type": "code",
   "execution_count": null,
   "id": "3635f798-624a-4856-96b9-2060dbbf4ac6",
   "metadata": {},
   "outputs": [],
   "source": [
    "px.scatter(dinodf[dinodf.dataset=='dino'], x=\"x\", y=\"y\")"
   ]
  },
  {
   "cell_type": "markdown",
   "id": "535342c8-731e-4027-b9d7-71250d2f0a3c",
   "metadata": {},
   "source": [
    "In addition to HTML elements, Dash's core components (aliased here as `dcc`) provides many useful UI elements like dropdown menus, sliders, and graphic capabilities.\n",
    "\n",
    "* https://dash.plotly.com/dash-core-components"
   ]
  },
  {
   "cell_type": "code",
   "execution_count": null,
   "id": "b2f5f7da-2680-4c2b-bc1e-c274301b97a7",
   "metadata": {},
   "outputs": [],
   "source": [
    "app.layout = html.Div(\n",
    "    [\n",
    "        html.H1('Hello!'),\n",
    "        html.P('This is my paragraph.'),\n",
    "        dcc.Graph(figure = px.scatter(dinodf[dinodf.dataset=='dino'], x=\"x\", y=\"y\"))\n",
    "    ],\n",
    ")"
   ]
  },
  {
   "cell_type": "markdown",
   "id": "0f34ec25-37ae-4e8e-be61-fa8fa5ba0b6c",
   "metadata": {},
   "source": [
    "For a dropdown, we'll need a list of the possible values in the `dataset` column of our dataframe.  `label` will be the name of the element in the menu and `value` will be the stored value that's usable by our code for a given menu selection."
   ]
  },
  {
   "cell_type": "code",
   "execution_count": null,
   "id": "d1564314-4946-4e6e-b0fe-70d1e4b75cdf",
   "metadata": {},
   "outputs": [],
   "source": [
    "[{'label': c, 'value': c} for c in dinodf.dataset.unique()]"
   ]
  },
  {
   "cell_type": "code",
   "execution_count": null,
   "id": "3d266763-c30a-4fed-b599-944b9af2ea7c",
   "metadata": {},
   "outputs": [],
   "source": [
    "app.layout = html.Div(\n",
    "    [\n",
    "        html.H1('Hello!'),\n",
    "        html.P('This is my paragraph.'),\n",
    "        dcc.Dropdown(\n",
    "            id='shape-dropdown', \n",
    "            options=[\n",
    "                {'label': c, 'value': c}\n",
    "                for c in dinodf.dataset.unique()\n",
    "            ]\n",
    "        ),\n",
    "        dcc.Graph(figure = px.scatter(dinodf[dinodf.dataset=='dino'], x=\"x\", y=\"y\", \n",
    "                                      width=500, height=500))\n",
    "    ],\n",
    ")"
   ]
  },
  {
   "cell_type": "code",
   "execution_count": null,
   "id": "30fc8802-1ee6-4559-8b3f-86fbfd51caa1",
   "metadata": {},
   "outputs": [],
   "source": [
    "from dash.dependencies import Input, Output"
   ]
  },
  {
   "cell_type": "code",
   "execution_count": null,
   "id": "ed1da00c-a597-4091-8ed1-5e306dca1074",
   "metadata": {},
   "outputs": [],
   "source": [
    "app.layout = html.Div(\n",
    "    [\n",
    "        html.H1('Hello!'),\n",
    "        html.P('This is my paragraph.'),\n",
    "        dcc.Dropdown(\n",
    "            id='shape-dropdown', \n",
    "            options=[\n",
    "                {'label': c, 'value': c}\n",
    "                for c in dinodf.dataset.unique()\n",
    "            ]\n",
    "        ),\n",
    "        dcc.Graph(\n",
    "            id='shape-scatterplot',\n",
    "            figure = px.scatter(dinodf[dinodf.dataset=='dino'], x=\"x\", y=\"y\", \n",
    "                                      width=500, height=500)\n",
    "        )\n",
    "    ],\n",
    ")\n",
    "\n",
    "@app.callback(\n",
    "    Output('shape-scatterplot', 'figure'),\n",
    "    [Input(\"shape-dropdown\", \"value\")]\n",
    ")\n",
    "def update_figure(dinoshape):\n",
    "    return px.scatter(\n",
    "        dinodf[dinodf.dataset==dinoshape], x=\"x\", y=\"y\",\n",
    "        width=500, height=500\n",
    "    )"
   ]
  },
  {
   "cell_type": "markdown",
   "id": "02e90968-4de8-4319-8710-80c9e108195f",
   "metadata": {},
   "source": [
    "In order to get a default value for the dropdown menu, we add `value` to our parameter list of the Dropdown."
   ]
  },
  {
   "cell_type": "code",
   "execution_count": null,
   "id": "df521fbb-8930-451c-9569-b1ac9f22a71f",
   "metadata": {},
   "outputs": [],
   "source": [
    "app.layout = html.Div(\n",
    "    [\n",
    "        html.H1('Hello!'),\n",
    "        html.P('This is my paragraph.'),\n",
    "        dcc.Dropdown(\n",
    "            id='shape-dropdown',\n",
    "            value='dino',\n",
    "            options=[\n",
    "                {'label': c, 'value': c}\n",
    "                for c in dinodf.dataset.unique()\n",
    "            ]\n",
    "        ),\n",
    "        dcc.Graph(\n",
    "            id='shape-scatterplot',\n",
    "            figure = px.scatter(dinodf[dinodf.dataset=='dino'], x=\"x\", y=\"y\", \n",
    "                                      width=500, height=500)\n",
    "        )\n",
    "    ],\n",
    ")\n",
    "\n",
    "@app.callback(\n",
    "    Output('shape-scatterplot', 'figure'),\n",
    "    [Input(\"shape-dropdown\", \"value\")]\n",
    ")\n",
    "def update_figure(dinoshape):\n",
    "    return px.scatter(\n",
    "        dinodf[dinodf.dataset==dinoshape], x=\"x\", y=\"y\",\n",
    "        width=500, height=500\n",
    "    )"
   ]
  },
  {
   "cell_type": "markdown",
   "id": "56c61b7b-49ef-44fa-abb0-19005efded11",
   "metadata": {},
   "source": [
    "Note:  may get error below about having multiple outputs and shape-scatterplot.figure.  This is because of hot-reloading.  Let's restart the kernel and resume again."
   ]
  },
  {
   "cell_type": "code",
   "execution_count": null,
   "id": "d9199ba1-1a44-4aad-9f50-4263cedaa8c5",
   "metadata": {},
   "outputs": [],
   "source": [
    "from jupyter_dash import JupyterDash\n",
    "from dash import dcc\n",
    "from dash import html\n",
    "import pandas as pd\n",
    "import plotly.express as px\n",
    "from dash.dependencies import Input, Output"
   ]
  },
  {
   "cell_type": "code",
   "execution_count": null,
   "id": "d4914d9c-38bf-4b01-bb06-60d1b79de827",
   "metadata": {},
   "outputs": [],
   "source": [
    "dinodf = pd.read_csv('data/DatasaurusDozen.tsv',sep='\\t')"
   ]
  },
  {
   "cell_type": "code",
   "execution_count": null,
   "id": "4710e8d5-b760-4c53-bb0a-1d9f6b1d000b",
   "metadata": {},
   "outputs": [],
   "source": [
    "from jupyter_dash.comms import _send_jupyter_config_comm_request"
   ]
  },
  {
   "cell_type": "code",
   "execution_count": null,
   "id": "aeac4539-2f28-4fbd-ab84-cebf7653afa4",
   "metadata": {},
   "outputs": [],
   "source": [
    "_send_jupyter_config_comm_request()"
   ]
  },
  {
   "cell_type": "code",
   "execution_count": null,
   "id": "7a87f715-22c3-4990-9f1c-267724d6b2eb",
   "metadata": {},
   "outputs": [],
   "source": [
    "JupyterDash.infer_jupyter_proxy_config()"
   ]
  },
  {
   "cell_type": "code",
   "execution_count": null,
   "id": "7c6e33ba-1628-4985-9894-3e9e464b0fb6",
   "metadata": {},
   "outputs": [],
   "source": [
    "app = JupyterDash(__name__)"
   ]
  },
  {
   "cell_type": "code",
   "execution_count": null,
   "id": "84234866-8571-41f3-ab85-1d4086bc4cd2",
   "metadata": {},
   "outputs": [],
   "source": [
    "app.layout = html.Div(\n",
    "    [\n",
    "        html.H1('Hello!'),\n",
    "        html.P('This is my paragraph.'),\n",
    "        dcc.Dropdown(\n",
    "            id='shape-dropdown',\n",
    "            value='dino',\n",
    "            options=[\n",
    "                {'label': c, 'value': c}\n",
    "                for c in dinodf.dataset.unique()\n",
    "            ]\n",
    "        ),\n",
    "        dcc.Graph(\n",
    "            id='shape-scatterplot',\n",
    "            figure = px.scatter(dinodf[dinodf.dataset=='dino'], x=\"x\", y=\"y\", \n",
    "                                      width=500, height=500)\n",
    "        )\n",
    "    ],\n",
    ")\n",
    "\n",
    "@app.callback(\n",
    "    Output('shape-scatterplot', 'figure'),\n",
    "    [Input(\"shape-dropdown\", \"value\")]\n",
    ")\n",
    "def update_figure(dinoshape):\n",
    "    return px.scatter(\n",
    "        dinodf[dinodf.dataset==dinoshape], x=\"x\", y=\"y\",\n",
    "        width=500, height=500\n",
    "    )"
   ]
  },
  {
   "cell_type": "code",
   "execution_count": null,
   "id": "a98c1c42-f52d-4f15-9c01-f8feb972535c",
   "metadata": {},
   "outputs": [],
   "source": [
    "app.run_server()"
   ]
  },
  {
   "cell_type": "code",
   "execution_count": null,
   "id": "722d752b-e43a-46f3-8d95-74171125cb1c",
   "metadata": {},
   "outputs": [],
   "source": [
    "from jupyter_dash import JupyterDash\n",
    "from dash import dcc\n",
    "from dash import html\n",
    "import pandas as pd\n",
    "import plotly.express as px\n",
    "from dash.dependencies import Input, Output"
   ]
  },
  {
   "cell_type": "code",
   "execution_count": null,
   "id": "d3a41bd8-9462-4f13-8486-bd4f05fe743f",
   "metadata": {},
   "outputs": [],
   "source": [
    "dinodf = pd.read_csv('data/DatasaurusDozen.tsv',sep='\\t')"
   ]
  },
  {
   "cell_type": "code",
   "execution_count": null,
   "id": "86945efa-ed58-4218-a78d-b72d77656d76",
   "metadata": {},
   "outputs": [],
   "source": [
    "from jupyter_dash.comms import _send_jupyter_config_comm_request"
   ]
  },
  {
   "cell_type": "code",
   "execution_count": null,
   "id": "8801c4ec-62c7-4c8d-b027-2db4305f6164",
   "metadata": {},
   "outputs": [],
   "source": [
    "_send_jupyter_config_comm_request()"
   ]
  },
  {
   "cell_type": "code",
   "execution_count": null,
   "id": "a38f02a6-99df-491e-9a4c-5e5019e7d2da",
   "metadata": {},
   "outputs": [],
   "source": [
    "JupyterDash.infer_jupyter_proxy_config()"
   ]
  },
  {
   "cell_type": "code",
   "execution_count": null,
   "id": "b8580c91-a5f0-455d-a7ba-a041e232c7ae",
   "metadata": {},
   "outputs": [],
   "source": [
    "app = JupyterDash(__name__)"
   ]
  },
  {
   "cell_type": "code",
   "execution_count": null,
   "id": "fb32efdb-8e5f-4420-8068-7d5e9762351f",
   "metadata": {},
   "outputs": [],
   "source": [
    "px.histogram(dinodf[dinodf.dataset=='dino'], x=\"x\",\n",
    "             width=500, height=200)"
   ]
  },
  {
   "cell_type": "code",
   "execution_count": null,
   "id": "8565b189-675f-4cc1-988d-366b6e5ee8a4",
   "metadata": {},
   "outputs": [],
   "source": [
    "app.layout = html.Div(\n",
    "    [\n",
    "        html.H1('Hello!'),\n",
    "        html.P('This is my paragraph.'),\n",
    "        dcc.Dropdown(\n",
    "            id='shape-dropdown',\n",
    "            value='dino',clearable=False,\n",
    "            options=[\n",
    "                {'label': c, 'value': c}\n",
    "                for c in dinodf.dataset.unique()\n",
    "            ]\n",
    "        ),\n",
    "        dcc.Graph(\n",
    "            id='shape-xhistogram'\n",
    "        ),\n",
    "        dcc.Graph(\n",
    "            id='shape-scatterplot'\n",
    "        )\n",
    "    ],\n",
    ")\n",
    "\n",
    "@app.callback(\n",
    "    Output('shape-xhistogram', 'figure'),\n",
    "    [Input(\"shape-dropdown\", \"value\")]\n",
    ")\n",
    "def update_xhistogram(dinoshape):\n",
    "    return px.histogram(\n",
    "        dinodf[dinodf.dataset==dinoshape], x=\"x\",\n",
    "        width=500, height=200\n",
    "    )\n",
    "\n",
    "@app.callback(\n",
    "    Output('shape-scatterplot', 'figure'),\n",
    "    [Input(\"shape-dropdown\", \"value\")]\n",
    ")\n",
    "def update_scatterplot(dinoshape):\n",
    "    return px.scatter(\n",
    "        dinodf[dinodf.dataset==dinoshape], x=\"x\", y=\"y\",\n",
    "        width=500, height=500\n",
    "    )"
   ]
  },
  {
   "cell_type": "code",
   "execution_count": null,
   "id": "a3b806ac-15df-4e26-8613-7332e2cc3720",
   "metadata": {},
   "outputs": [],
   "source": [
    "app.run_server()"
   ]
  },
  {
   "cell_type": "markdown",
   "id": "2db29dda-aa21-4b32-8810-ae7f676e6bf6",
   "metadata": {},
   "source": [
    "# An example taken from the JupyterDash repo\n",
    "\n",
    "https://github.com/plotly/jupyter-dash"
   ]
  },
  {
   "cell_type": "code",
   "execution_count": null,
   "id": "385ec70a-4bba-4971-a595-38b784bd72dd",
   "metadata": {},
   "outputs": [],
   "source": [
    "import dash\n",
    "from jupyter_dash import JupyterDash\n",
    "from dash import dcc\n",
    "from dash import html\n",
    "import pandas as pd"
   ]
  },
  {
   "cell_type": "code",
   "execution_count": null,
   "id": "f007ab9c-076b-47a1-9ca2-44d6b8164f1b",
   "metadata": {},
   "outputs": [],
   "source": [
    "df = pd.read_csv('https://plotly.github.io/datasets/country_indicators.csv')\n",
    "available_indicators = df['Indicator Name'].unique()"
   ]
  },
  {
   "cell_type": "code",
   "execution_count": null,
   "id": "6d73342a-1719-47e2-b10a-f6db01b0e9de",
   "metadata": {},
   "outputs": [],
   "source": [
    "# Output this dataset so we can use with \n",
    "df"
   ]
  },
  {
   "cell_type": "code",
   "execution_count": null,
   "id": "820b7b1b-1c2a-447f-b929-0106e27e6874",
   "metadata": {},
   "outputs": [],
   "source": [
    "# Output this dataset so we can use with \n",
    "dfout = df.pivot(index=['Year',\n",
    "                        'Country Name'],\n",
    "                 columns=['Indicator Name'],\n",
    "                 values='Value')\n",
    "dfout.reset_index().to_csv('plotlyCountryIndicators.csv')"
   ]
  },
  {
   "cell_type": "markdown",
   "id": "27dd49d2-e796-4c78-ac84-105e39473503",
   "metadata": {},
   "source": [
    "Construct the app and callbacks"
   ]
  },
  {
   "cell_type": "code",
   "execution_count": null,
   "id": "5762ceb4-4925-4ccd-b6a7-788b65a9e5cb",
   "metadata": {},
   "outputs": [],
   "source": [
    "from jupyter_dash.comms import _send_jupyter_config_comm_request"
   ]
  },
  {
   "cell_type": "code",
   "execution_count": null,
   "id": "3befd010-0164-4021-95a8-7110b1deb8c9",
   "metadata": {},
   "outputs": [],
   "source": [
    "_send_jupyter_config_comm_request()"
   ]
  },
  {
   "cell_type": "code",
   "execution_count": null,
   "id": "e6efdf42-887f-43d8-b3f5-436274c87c8d",
   "metadata": {},
   "outputs": [],
   "source": [
    "JupyterDash.infer_jupyter_proxy_config()"
   ]
  },
  {
   "cell_type": "code",
   "execution_count": null,
   "id": "29d28742-1a2c-469f-b5d7-bedc9fcd0af3",
   "metadata": {},
   "outputs": [],
   "source": [
    "external_stylesheets = ['https://codepen.io/chriddyp/pen/bWLwgP.css']\n",
    "\n",
    "app = JupyterDash(__name__, external_stylesheets=external_stylesheets)\n",
    "\n",
    "# Create server variable with Flask server object for use with gunicorn\n",
    "server = app.server\n",
    "\n",
    "app.layout = html.Div([\n",
    "    html.Div([\n",
    "\n",
    "        html.Div([\n",
    "            dcc.Dropdown(\n",
    "                id='crossfilter-xaxis-column',\n",
    "                options=[{'label': i, 'value': i} for i in available_indicators],\n",
    "                value='Agriculture, value added (% of GDP)'\n",
    "            ),\n",
    "            dcc.RadioItems(\n",
    "                id='crossfilter-xaxis-type',\n",
    "                options=[{'label': i, 'value': i} for i in ['Linear', 'Log']],\n",
    "                value='Linear',\n",
    "                labelStyle={'display': 'inline-block'}\n",
    "            )\n",
    "        ],\n",
    "        style={'width': '49%', 'display': 'inline-block'}),\n",
    "\n",
    "        html.Div([\n",
    "            dcc.Dropdown(\n",
    "                id='crossfilter-yaxis-column',\n",
    "                options=[{'label': i, 'value': i} for i in available_indicators],\n",
    "                value='Life expectancy at birth, total (years)'\n",
    "            ),\n",
    "            dcc.RadioItems(\n",
    "                id='crossfilter-yaxis-type',\n",
    "                options=[{'label': i, 'value': i} for i in ['Linear', 'Log']],\n",
    "                value='Linear',\n",
    "                labelStyle={'display': 'inline-block'}\n",
    "            )\n",
    "        ], style={'width': '49%', 'float': 'right', 'display': 'inline-block'})\n",
    "    ], style={\n",
    "        'borderBottom': 'thin lightgrey solid',\n",
    "        'backgroundColor': 'rgb(250, 250, 250)',\n",
    "        'padding': '10px 5px'\n",
    "    }),\n",
    "\n",
    "    html.Div([\n",
    "        dcc.Graph(\n",
    "            id='crossfilter-indicator-scatter',\n",
    "            hoverData={'points': [{'customdata': 'Japan'}]}\n",
    "        )\n",
    "    ], style={'width': '49%', 'display': 'inline-block', 'padding': '0 20'}),\n",
    "    html.Div([\n",
    "        dcc.Graph(id='x-time-series'),\n",
    "        dcc.Graph(id='y-time-series'),\n",
    "    ], style={'display': 'inline-block', 'width': '49%'}),\n",
    "\n",
    "    html.Div(dcc.Slider(\n",
    "        id='crossfilter-year--slider',\n",
    "        min=df['Year'].min(),\n",
    "        max=df['Year'].max(),\n",
    "        value=df['Year'].max(),\n",
    "        marks={str(year): str(year) for year in df['Year'].unique()},\n",
    "        step=None\n",
    "    ), style={'width': '49%', 'padding': '0px 20px 20px 20px'})\n",
    "])\n",
    "\n",
    "\n",
    "@app.callback(\n",
    "    dash.dependencies.Output('crossfilter-indicator-scatter', 'figure'),\n",
    "    [dash.dependencies.Input('crossfilter-xaxis-column', 'value'),\n",
    "     dash.dependencies.Input('crossfilter-yaxis-column', 'value'),\n",
    "     dash.dependencies.Input('crossfilter-xaxis-type', 'value'),\n",
    "     dash.dependencies.Input('crossfilter-yaxis-type', 'value'),\n",
    "     dash.dependencies.Input('crossfilter-year--slider', 'value')])\n",
    "def update_graph(xaxis_column_name, yaxis_column_name,\n",
    "                 xaxis_type, yaxis_type,\n",
    "                 year_value):\n",
    "    dff = df[df['Year'] == year_value]\n",
    "\n",
    "    return {\n",
    "        'data': [dict(\n",
    "            x=dff[dff['Indicator Name'] == xaxis_column_name]['Value'],\n",
    "            y=dff[dff['Indicator Name'] == yaxis_column_name]['Value'],\n",
    "            text=dff[dff['Indicator Name'] == yaxis_column_name]['Country Name'],\n",
    "            customdata=dff[dff['Indicator Name'] == yaxis_column_name]['Country Name'],\n",
    "            mode='markers',\n",
    "            marker={\n",
    "                'size': 25,\n",
    "                'opacity': 0.7,\n",
    "                'color': 'orange',\n",
    "                'line': {'width': 2, 'color': 'purple'}\n",
    "            }\n",
    "        )],\n",
    "        'layout': dict(\n",
    "            xaxis={\n",
    "                'title': xaxis_column_name,\n",
    "                'type': 'linear' if xaxis_type == 'Linear' else 'log'\n",
    "            },\n",
    "            yaxis={\n",
    "                'title': yaxis_column_name,\n",
    "                'type': 'linear' if yaxis_type == 'Linear' else 'log'\n",
    "            },\n",
    "            margin={'l': 40, 'b': 30, 't': 10, 'r': 0},\n",
    "            height=450,\n",
    "            hovermode='closest'\n",
    "        )\n",
    "    }\n",
    "\n",
    "\n",
    "def create_time_series(dff, axis_type, title):\n",
    "    return {\n",
    "        'data': [dict(\n",
    "            x=dff['Year'],\n",
    "            y=dff['Value'],\n",
    "            mode='lines+markers'\n",
    "        )],\n",
    "        'layout': {\n",
    "            'height': 225,\n",
    "            'margin': {'l': 20, 'b': 30, 'r': 10, 't': 10},\n",
    "            'annotations': [{\n",
    "                'x': 0, 'y': 0.85, 'xanchor': 'left', 'yanchor': 'bottom',\n",
    "                'xref': 'paper', 'yref': 'paper', 'showarrow': False,\n",
    "                'align': 'left', 'bgcolor': 'rgba(255, 255, 255, 0.5)',\n",
    "                'text': title\n",
    "            }],\n",
    "            'yaxis': {'type': 'linear' if axis_type == 'Linear' else 'log'},\n",
    "            'xaxis': {'showgrid': False}\n",
    "        }\n",
    "    }\n",
    "\n",
    "\n",
    "@app.callback(\n",
    "    dash.dependencies.Output('x-time-series', 'figure'),\n",
    "    [dash.dependencies.Input('crossfilter-indicator-scatter', 'hoverData'),\n",
    "     dash.dependencies.Input('crossfilter-xaxis-column', 'value'),\n",
    "     dash.dependencies.Input('crossfilter-xaxis-type', 'value')])\n",
    "def update_y_timeseries(hoverData, xaxis_column_name, axis_type):\n",
    "    country_name = hoverData['points'][0]['customdata']\n",
    "    dff = df[df['Country Name'] == country_name]\n",
    "    dff = dff[dff['Indicator Name'] == xaxis_column_name]\n",
    "    title = '<b>{}</b><br>{}'.format(country_name, xaxis_column_name)\n",
    "    return create_time_series(dff, axis_type, title)\n",
    "\n",
    "\n",
    "@app.callback(\n",
    "    dash.dependencies.Output('y-time-series', 'figure'),\n",
    "    [dash.dependencies.Input('crossfilter-indicator-scatter', 'hoverData'),\n",
    "     dash.dependencies.Input('crossfilter-yaxis-column', 'value'),\n",
    "     dash.dependencies.Input('crossfilter-yaxis-type', 'value')])\n",
    "def update_x_timeseries(hoverData, yaxis_column_name, axis_type):\n",
    "    dff = df[df['Country Name'] == hoverData['points'][0]['customdata']]\n",
    "    dff = dff[dff['Indicator Name'] == yaxis_column_name]\n",
    "    return create_time_series(dff, axis_type, yaxis_column_name)"
   ]
  },
  {
   "cell_type": "markdown",
   "id": "af2bfb98-cda1-4e90-b0a6-fd26e4560797",
   "metadata": {},
   "source": [
    "Serve the app using `run_server`.  Unlike the standard `Dash.run_server` method, the `JupyterDash.run_server` method doesn't block execution of the notebook. It serves the app in a background thread, making it possible to run other notebook calculations while the app is running.\n",
    "\n",
    "This makes it possible to iterativly update the app without rerunning the potentially expensive data processing steps."
   ]
  },
  {
   "cell_type": "code",
   "execution_count": null,
   "id": "e793513a-76e3-44c2-bf1b-5a06cf04d889",
   "metadata": {},
   "outputs": [],
   "source": [
    "app.run_server(port=8090)\n",
    "# app.run_server(mode=\"inline\")"
   ]
  },
  {
   "cell_type": "markdown",
   "id": "45cdbb1b-de36-4f2c-80e3-5a8ba16fd9bd",
   "metadata": {},
   "source": [
    "By default, `run_server` displays a URL that you can click on to open the app in a browser tab. The `mode` argument to `run_server` can be used to change this behavior.  Setting `mode=\"inline\"` will display the app directly in the notebook output cell."
   ]
  },
  {
   "cell_type": "code",
   "execution_count": null,
   "id": "826d5f34-9710-460b-890c-d05e4e9f28d7",
   "metadata": {},
   "outputs": [],
   "source": [
    "#app.run_server()\n",
    "app.run_server(mode=\"inline\")"
   ]
  },
  {
   "cell_type": "markdown",
   "id": "b0bb77ba-db70-49c1-817f-c6eefbb4bc63",
   "metadata": {},
   "source": [
    "When running in JupyterLab, with the `jupyterlab-dash` extension, setting `mode=\"jupyterlab\"` will open the app in a tab in JupyterLab.\n",
    "\n",
    "```python\n",
    "app.run_server(mode=\"jupyterlab\")\n",
    "```"
   ]
  },
  {
   "cell_type": "code",
   "execution_count": null,
   "id": "7a0a134c-576e-42d6-abca-ac4b4f666081",
   "metadata": {},
   "outputs": [],
   "source": [
    "app.run_server(mode=\"jupyterlab\")"
   ]
  }
 ],
 "metadata": {
  "kernelspec": {
   "display_name": "Python 3 (ipykernel)",
   "language": "python",
   "name": "python3"
  },
  "language_info": {
   "codemirror_mode": {
    "name": "ipython",
    "version": 3
   },
   "file_extension": ".py",
   "mimetype": "text/x-python",
   "name": "python",
   "nbconvert_exporter": "python",
   "pygments_lexer": "ipython3",
   "version": "3.10.8"
  },
  "toc": {
   "base_numbering": 1,
   "nav_menu": {},
   "number_sections": true,
   "sideBar": true,
   "skip_h1_title": false,
   "title_cell": "Table of Contents",
   "title_sidebar": "Contents",
   "toc_cell": false,
   "toc_position": {},
   "toc_section_display": true,
   "toc_window_display": false
  }
 },
 "nbformat": 4,
 "nbformat_minor": 5
}
