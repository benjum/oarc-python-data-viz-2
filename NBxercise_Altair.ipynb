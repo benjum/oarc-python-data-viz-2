{
 "cells": [
  {
   "cell_type": "markdown",
   "id": "9359d5e3",
   "metadata": {},
   "source": [
    "These packages will need to be installed before proceeding."
   ]
  },
  {
   "cell_type": "code",
   "execution_count": null,
   "id": "dd0597ce",
   "metadata": {},
   "outputs": [],
   "source": [
    "#!pip install altair pandas ipywidgets vega_datasets"
   ]
  },
  {
   "cell_type": "markdown",
   "id": "60a49733",
   "metadata": {},
   "source": [
    "Import the libraries:"
   ]
  },
  {
   "cell_type": "code",
   "execution_count": null,
   "id": "70a5e8fe",
   "metadata": {},
   "outputs": [],
   "source": [
    "import altair as alt\n",
    "import pandas as pd\n",
    "import ipywidgets as widgets"
   ]
  },
  {
   "cell_type": "markdown",
   "id": "d1af8446",
   "metadata": {},
   "source": [
    "Import an example dataset about cars:"
   ]
  },
  {
   "cell_type": "code",
   "execution_count": null,
   "id": "673fccc5",
   "metadata": {},
   "outputs": [],
   "source": [
    "from vega_datasets import data\n",
    "cars = data.cars()"
   ]
  },
  {
   "cell_type": "markdown",
   "id": "94c0b6cd",
   "metadata": {},
   "source": [
    "Look at the first rows of the dataframe:"
   ]
  },
  {
   "cell_type": "code",
   "execution_count": null,
   "id": "1a6e1930",
   "metadata": {},
   "outputs": [],
   "source": [
    "cars.head()"
   ]
  },
  {
   "cell_type": "markdown",
   "id": "8d0c574a",
   "metadata": {},
   "source": [
    "Look at the Altair documentation for methods to map columns to visual attributes of the plot:\n",
    "https://altair-viz.github.io/user_guide/marks.html\n",
    "\n",
    "Make a bar plot showing the number of car records from each country of origin (column Origin), with the bar color corresponding to country of origin:"
   ]
  },
  {
   "cell_type": "code",
   "execution_count": null,
   "id": "38b4d089",
   "metadata": {},
   "outputs": [],
   "source": []
  },
  {
   "cell_type": "markdown",
   "id": "6e6940d1",
   "metadata": {},
   "source": [
    "Then make a scatterplot of Horsepower vs Miles_per_Gallon, and make the color correspond to Origin (the country of origin)."
   ]
  },
  {
   "cell_type": "code",
   "execution_count": null,
   "id": "11d5611a",
   "metadata": {},
   "outputs": [],
   "source": []
  },
  {
   "cell_type": "markdown",
   "id": "a0b6463c",
   "metadata": {},
   "source": [
    "Plot the two plots above together with the `&` notation:"
   ]
  },
  {
   "cell_type": "code",
   "execution_count": null,
   "id": "68791321",
   "metadata": {},
   "outputs": [],
   "source": []
  },
  {
   "cell_type": "markdown",
   "id": "9186a3e9",
   "metadata": {},
   "source": [
    "Make a selection interval object and use it in such a way that the bar plot is transformed based on how a user selects an interval in the scatter plot"
   ]
  },
  {
   "cell_type": "code",
   "execution_count": null,
   "id": "561b090d",
   "metadata": {},
   "outputs": [],
   "source": []
  },
  {
   "cell_type": "markdown",
   "id": "d6bd92a7-7614-4940-a551-cd31ab95702c",
   "metadata": {},
   "source": [
    "Save the above interactive graphic as an html file."
   ]
  },
  {
   "cell_type": "code",
   "execution_count": null,
   "id": "2658b4ad-53f1-46e1-bf55-840869881636",
   "metadata": {},
   "outputs": [],
   "source": []
  },
  {
   "cell_type": "markdown",
   "id": "f5a10756-6f08-44a9-aaaf-ffa1b5b42767",
   "metadata": {},
   "source": [
    "Open the file and double-check that it is interactive."
   ]
  }
 ],
 "metadata": {
  "kernelspec": {
   "display_name": "Python 3 (ipykernel)",
   "language": "python",
   "name": "python3"
  },
  "language_info": {
   "codemirror_mode": {
    "name": "ipython",
    "version": 3
   },
   "file_extension": ".py",
   "mimetype": "text/x-python",
   "name": "python",
   "nbconvert_exporter": "python",
   "pygments_lexer": "ipython3",
   "version": "3.10.8"
  }
 },
 "nbformat": 4,
 "nbformat_minor": 5
}
