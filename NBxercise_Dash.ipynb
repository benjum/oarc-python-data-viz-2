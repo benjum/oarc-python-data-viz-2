{
 "cells": [
  {
   "cell_type": "markdown",
   "id": "df1b75d1-b336-4aac-9ca8-1f1beb0b4c24",
   "metadata": {},
   "source": [
    "# Example dashboard with Plotly & Dash"
   ]
  },
  {
   "cell_type": "markdown",
   "id": "b31eaec1-d2bf-4189-bcaf-d0def6cb324c",
   "metadata": {},
   "source": [
    "Import libraries"
   ]
  },
  {
   "cell_type": "code",
   "execution_count": null,
   "id": "252c1795-12b2-4100-b517-72f91333b9ed",
   "metadata": {},
   "outputs": [],
   "source": [
    "from jupyter_dash import JupyterDash\n",
    "from dash import dcc\n",
    "from dash import html\n",
    "import pandas as pd\n",
    "import plotly.express as px\n",
    "from dash.dependencies import Input, Output"
   ]
  },
  {
   "cell_type": "markdown",
   "id": "285d58fb-fde4-42a6-b71d-ba86b9f54ec0",
   "metadata": {},
   "source": [
    "Import the data"
   ]
  },
  {
   "cell_type": "code",
   "execution_count": null,
   "id": "3d4971c4-85b9-450d-b8ac-75da2429e994",
   "metadata": {},
   "outputs": [],
   "source": [
    "df = pd.read_csv('data/plotlyCountryIndicators.csv')\n",
    "df = df.drop(df.columns[0],axis=1)"
   ]
  },
  {
   "cell_type": "markdown",
   "id": "e21530b3-f5d8-492f-a5e3-19f068eb1d4f",
   "metadata": {},
   "source": [
    "Look at the first rows."
   ]
  },
  {
   "cell_type": "code",
   "execution_count": null,
   "id": "fed37e97-5257-4ce7-8115-cfd1b76bf7b1",
   "metadata": {},
   "outputs": [],
   "source": [
    "df.head()"
   ]
  },
  {
   "cell_type": "markdown",
   "id": "d4d46885-5934-4a98-ae41-5a23a57c03b6",
   "metadata": {},
   "source": [
    "The following can be used to access the column names."
   ]
  },
  {
   "cell_type": "code",
   "execution_count": null,
   "id": "1866097b-958b-4a7d-954c-ae8bce9188e6",
   "metadata": {},
   "outputs": [],
   "source": [
    "df.columns"
   ]
  },
  {
   "cell_type": "markdown",
   "id": "2d6db848-3d07-4490-9e51-522c445f63f3",
   "metadata": {},
   "source": [
    "The following are the unique country names."
   ]
  },
  {
   "cell_type": "code",
   "execution_count": null,
   "id": "3ea54668-8092-4033-a44a-ce2b856ec203",
   "metadata": {},
   "outputs": [],
   "source": [
    "df['Country Name'].unique()"
   ]
  },
  {
   "cell_type": "markdown",
   "id": "2cb0a60a-b5ca-4ea2-854d-d33a4ceb6c19",
   "metadata": {},
   "source": [
    "Relative to our other dashboard, here are the column titles for life expectancy and domestic credit."
   ]
  },
  {
   "cell_type": "code",
   "execution_count": null,
   "id": "0af2fb66-8552-4fec-9702-b2de0075d9e0",
   "metadata": {},
   "outputs": [],
   "source": [
    "df.columns[-3]"
   ]
  },
  {
   "cell_type": "code",
   "execution_count": null,
   "id": "8a3cc2b3-3a5d-4593-86c3-4353bc51c0b4",
   "metadata": {},
   "outputs": [],
   "source": [
    "df.columns[4]"
   ]
  },
  {
   "cell_type": "markdown",
   "id": "5a7340d2-26d7-4bde-929d-f3100b710553",
   "metadata": {},
   "source": [
    "Use plotly express's `scatter` method to plot life expectancy vs domestic credit."
   ]
  },
  {
   "cell_type": "code",
   "execution_count": null,
   "id": "0115b02e-3b5a-4ef9-8e8a-4f101e3e9457",
   "metadata": {},
   "outputs": [],
   "source": [
    "???"
   ]
  },
  {
   "cell_type": "markdown",
   "id": "d959e969-5ad8-4b6d-b1c6-1525d717f639",
   "metadata": {},
   "source": [
    "Execute the following three cells to set up the proxy info if running this over a JupyterHub or Binder connection."
   ]
  },
  {
   "cell_type": "code",
   "execution_count": null,
   "id": "86945efa-ed58-4218-a78d-b72d77656d76",
   "metadata": {},
   "outputs": [],
   "source": [
    "#from jupyter_dash.comms import _send_jupyter_config_comm_request"
   ]
  },
  {
   "cell_type": "code",
   "execution_count": null,
   "id": "8801c4ec-62c7-4c8d-b027-2db4305f6164",
   "metadata": {},
   "outputs": [],
   "source": [
    "#_send_jupyter_config_comm_request()"
   ]
  },
  {
   "cell_type": "code",
   "execution_count": null,
   "id": "a38f02a6-99df-491e-9a4c-5e5019e7d2da",
   "metadata": {},
   "outputs": [],
   "source": [
    "#JupyterDash.infer_jupyter_proxy_config()"
   ]
  },
  {
   "cell_type": "markdown",
   "id": "cce9c13d-79a0-495c-bac3-34ef330daa46",
   "metadata": {},
   "source": [
    "Initialize the dash app."
   ]
  },
  {
   "cell_type": "code",
   "execution_count": null,
   "id": "b8580c91-a5f0-455d-a7ba-a041e232c7ae",
   "metadata": {},
   "outputs": [],
   "source": [
    "???"
   ]
  },
  {
   "cell_type": "markdown",
   "id": "4d140c7d-8259-4ed9-bcbd-028c8a1f1b48",
   "metadata": {},
   "source": [
    "Add in the appropriate pieces below to create the dashboard."
   ]
  },
  {
   "cell_type": "code",
   "execution_count": null,
   "id": "343438b9-143a-4478-be8a-7fa92e22c2b1",
   "metadata": {},
   "outputs": [],
   "source": [
    "app.layout = html.Div(\n",
    "    [\n",
    "        html.Div(\n",
    "            [\n",
    "                # make one main header\n",
    "                ???,\n",
    "                # make a dropdown to select the \n",
    "                # column to plot against domestic credit\n",
    "                ???,\n",
    "                # make another dropdown to select \n",
    "                # the country for plotting the time series data\n",
    "                ???,\n",
    "            ]\n",
    "        ),\n",
    "        html.Div(\n",
    "            [\n",
    "                # make two graphs, \n",
    "                # one for the line plot \n",
    "                # and one for the scatter plot\n",
    "                ???,\n",
    "                ???\n",
    "            ], style={'display': 'flex', 'flex-direction': 'row'}\n",
    "        )\n",
    "    ]\n",
    ")\n",
    "\n",
    "# Updating the lineplot requires input from both dropdown menus\n",
    "@app.callback(\n",
    "    Output(???, ???),\n",
    "    [Input(???, ???),\n",
    "    Input(???, ???)]\n",
    ")\n",
    "def update_lineplot(???, ???):\n",
    "    # return the line plot figure\n",
    "    return px.line(\n",
    "        ???, ???, ???,\n",
    "        width=500, height=500\n",
    "    )\n",
    "\n",
    "# Updating the scatter plot requires input from one dropdown menu\n",
    "@app.callback(\n",
    "    Output(???, ???),\n",
    "    [Input(???, ???)]\n",
    ")\n",
    "def update_scatterplot(???):\n",
    "    # return the scatter plot figure\n",
    "    return px.scatter(\n",
    "        ???, ???, ???,\n",
    "        width=500, height=500\n",
    "    )"
   ]
  },
  {
   "cell_type": "markdown",
   "id": "40845e40-7be1-4402-a374-1fcdd34ad415",
   "metadata": {},
   "source": [
    "Run the dashboard server."
   ]
  },
  {
   "cell_type": "code",
   "execution_count": null,
   "id": "debea5b2-2ff2-43e1-b173-0f9b3340a931",
   "metadata": {},
   "outputs": [],
   "source": [
    "app.run_server()"
   ]
  }
 ],
 "metadata": {
  "kernelspec": {
   "display_name": "Python 3 (ipykernel)",
   "language": "python",
   "name": "python3"
  },
  "language_info": {
   "codemirror_mode": {
    "name": "ipython",
    "version": 3
   },
   "file_extension": ".py",
   "mimetype": "text/x-python",
   "name": "python",
   "nbconvert_exporter": "python",
   "pygments_lexer": "ipython3",
   "version": "3.9.13"
  }
 },
 "nbformat": 4,
 "nbformat_minor": 5
}
